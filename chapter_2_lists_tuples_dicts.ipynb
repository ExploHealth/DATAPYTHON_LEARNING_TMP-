{
  "cells": [
    {
      "cell_type": "markdown",
      "metadata": {
        "id": "view-in-github",
        "colab_type": "text"
      },
      "source": [
        "<a href=\"https://colab.research.google.com/github/ExploHealth/DATAPYTHON_LEARNING_TMP-/blob/main/chapter_2_lists_tuples_dicts.ipynb\" target=\"_parent\"><img src=\"https://colab.research.google.com/assets/colab-badge.svg\" alt=\"Open In Colab\"/></a>"
      ]
    },
    {
      "cell_type": "markdown",
      "metadata": {
        "id": "OpnNqspN5Efa"
      },
      "source": [
        "# Chapter 2: Lists, Tuples, and Dictionaries\n",
        "In this chapter, you'll learn how to store, access, and manipulate collections of data using **lists**, **tuples**, and **dictionaries**."
      ]
    },
    {
      "cell_type": "markdown",
      "metadata": {
        "id": "4qeSjTiE5Efc"
      },
      "source": [
        "## Lists in Python\n",
        "A list is an ordered collection of items that can be changed (mutable). Lists can store any type of data: numbers, strings, or even other lists.\n",
        "\n",
        "### Syntax:\n",
        "`my_list = [item1, item2, item3]`\n",
        "\n",
        "### Common Operations:\n",
        "- Access items: `my_list[0]`\n",
        "- Add items: `my_list.append(value)`\n",
        "- Remove items: `my_list.remove(value)`\n",
        "- Slice list: `my_list[1:3]`"
      ]
    },
    {
      "cell_type": "code",
      "source": [
        "my_colors = [\"red\", \"green\", \"blue\"]\n",
        "print(f\"First colour: {my_colors[0]}\")"
      ],
      "metadata": {
        "colab": {
          "base_uri": "https://localhost:8080/"
        },
        "id": "ZbR4XccZ8VGv",
        "outputId": "e29c5191-8d1a-4bf2-a4c4-d7a72a34972b"
      },
      "execution_count": 4,
      "outputs": [
        {
          "output_type": "stream",
          "name": "stdout",
          "text": [
            "First colour: red\n"
          ]
        }
      ]
    },
    {
      "cell_type": "code",
      "execution_count": 2,
      "metadata": {
        "colab": {
          "base_uri": "https://localhost:8080/"
        },
        "id": "RLCQfPqI5Efd",
        "outputId": "6304b603-11a1-4453-cea2-d038983a9aca"
      },
      "outputs": [
        {
          "output_type": "stream",
          "name": "stdout",
          "text": [
            "First fruit: apple\n",
            "Fruits after append: ['apple', 'banana', 'cherry', 'orange']\n",
            "Fruits after remove: ['apple', 'cherry', 'orange']\n"
          ]
        }
      ],
      "source": [
        "# Example of list operations\n",
        "fruits = [\"apple\", \"banana\", \"cherry\"]\n",
        "print(f\"First fruit: {fruits[0]}\")\n",
        "fruits.append(\"orange\")\n",
        "print(f\"Fruits after append: {fruits}\")\n",
        "fruits.remove(\"banana\")\n",
        "print(f\"Fruits after remove: {fruits}\")"
      ]
    },
    {
      "cell_type": "markdown",
      "metadata": {
        "id": "UUJgFL5w5Efe"
      },
      "source": [
        "### 🧠 Exercise 1:\n",
        "Create a list of 5 favorite movies and print the second and fourth ones."
      ]
    },
    {
      "cell_type": "code",
      "source": [
        "# Create a list of five favorite movies\n",
        "favorite_movies = [\n",
        "    \"The Shawshank Redemption\",\n",
        "    \"Inception\",\n",
        "    \"The Dark Knight\",\n",
        "    \"Pulp Fiction\",\n",
        "    \"The Lord of the Rings: The Fellowship of the Ring\"\n",
        "]\n",
        "\n",
        "# Print the 2nd and 4th movies (remember: list indices start at 0)\n",
        "print(f\"Second movie: {favorite_movies[1]}\")\n",
        "print(f\"Fourth movie: {favorite_movies[3]}\")"
      ],
      "metadata": {
        "colab": {
          "base_uri": "https://localhost:8080/"
        },
        "id": "bY2O-v7--P4c",
        "outputId": "6bcfdb32-ad17-423e-cef9-85c2942c2dba"
      },
      "execution_count": 3,
      "outputs": [
        {
          "output_type": "stream",
          "name": "stdout",
          "text": [
            "Second movie: Inception\n",
            "Fourth movie: Pulp Fiction\n"
          ]
        }
      ]
    },
    {
      "cell_type": "markdown",
      "metadata": {
        "id": "8rlL8XO95Eff"
      },
      "source": [
        "### 🧠 Exercise 2:\n",
        "Add a new movie to the list, then remove the first one. Print the final list."
      ]
    },
    {
      "cell_type": "code",
      "source": [
        "favorite_movies.append(\"Avengers\")\n",
        "\n",
        "# Remove the first movie\n",
        "favorite_movies.pop(0)\n",
        "\n",
        "# Print the final list\n",
        "print(\"Final movie list:\")\n",
        "print(favorite_movies)"
      ],
      "metadata": {
        "colab": {
          "base_uri": "https://localhost:8080/"
        },
        "id": "Uo94merACNEL",
        "outputId": "64812070-e320-42df-c233-999144ad53f8"
      },
      "execution_count": 5,
      "outputs": [
        {
          "output_type": "stream",
          "name": "stdout",
          "text": [
            "Final movie list:\n",
            "['Inception', 'The Dark Knight', 'Pulp Fiction', 'The Lord of the Rings: The Fellowship of the Ring', 'Avengers']\n"
          ]
        }
      ]
    },
    {
      "cell_type": "markdown",
      "metadata": {
        "id": "mgbrp_325Eff"
      },
      "source": [
        "## Tuples in Python\n",
        "A tuple is like a list, but it cannot be changed (immutable). Use tuples when you want to ensure the data stays the same.\n",
        "\n",
        "### Syntax:\n",
        "`my_tuple = (item1, item2, item3)`"
      ]
    },
    {
      "cell_type": "code",
      "execution_count": 8,
      "metadata": {
        "colab": {
          "base_uri": "https://localhost:8080/",
          "height": 193
        },
        "id": "ZIK1jM8R5Efg",
        "outputId": "4f1d3276-7d2d-4706-a870-c98b3cb984ba"
      },
      "outputs": [
        {
          "output_type": "stream",
          "name": "stdout",
          "text": [
            "First color: red\n"
          ]
        },
        {
          "output_type": "error",
          "ename": "TypeError",
          "evalue": "'tuple' object does not support item assignment",
          "traceback": [
            "\u001b[0;31m---------------------------------------------------------------------------\u001b[0m",
            "\u001b[0;31mTypeError\u001b[0m                                 Traceback (most recent call last)",
            "\u001b[0;32m/tmp/ipython-input-8-3795411392.py\u001b[0m in \u001b[0;36m<cell line: 0>\u001b[0;34m()\u001b[0m\n\u001b[1;32m      2\u001b[0m \u001b[0mcolors\u001b[0m \u001b[0;34m=\u001b[0m \u001b[0;34m(\u001b[0m\u001b[0;34m\"red\"\u001b[0m\u001b[0;34m,\u001b[0m \u001b[0;34m\"green\"\u001b[0m\u001b[0;34m,\u001b[0m \u001b[0;34m\"blue\"\u001b[0m\u001b[0;34m)\u001b[0m\u001b[0;34m\u001b[0m\u001b[0;34m\u001b[0m\u001b[0m\n\u001b[1;32m      3\u001b[0m \u001b[0mprint\u001b[0m\u001b[0;34m(\u001b[0m\u001b[0;34mf\"First color: {colors[0]}\"\u001b[0m\u001b[0;34m)\u001b[0m\u001b[0;34m\u001b[0m\u001b[0;34m\u001b[0m\u001b[0m\n\u001b[0;32m----> 4\u001b[0;31m \u001b[0mcolors\u001b[0m\u001b[0;34m[\u001b[0m\u001b[0;36m1\u001b[0m\u001b[0;34m]\u001b[0m \u001b[0;34m=\u001b[0m \u001b[0;34m\"yellow\"\u001b[0m  \u001b[0;31m# This will cause an error (uncomment to test immutability)\u001b[0m\u001b[0;34m\u001b[0m\u001b[0;34m\u001b[0m\u001b[0m\n\u001b[0m",
            "\u001b[0;31mTypeError\u001b[0m: 'tuple' object does not support item assignment"
          ]
        }
      ],
      "source": [
        "# Tuple example\n",
        "colors = (\"red\", \"green\", \"blue\")\n",
        "print(f\"First color: {colors[0]}\")\n",
        "colors[1] = \"yellow\"  # This will cause an error (uncomment to test immutability)"
      ]
    },
    {
      "cell_type": "markdown",
      "metadata": {
        "id": "BHSAJpC05Efg"
      },
      "source": [
        "### 🧠 Exercise 3:\n",
        "Create a tuple of your top 3 programming languages and print them one by one."
      ]
    },
    {
      "cell_type": "code",
      "source": [
        "top_languages = (\"Python\", \"JavaScript\", \"C++\")\n",
        "\n",
        "# Print each language one by one\n",
        "for language in top_languages:\n",
        "    print(language)"
      ],
      "metadata": {
        "colab": {
          "base_uri": "https://localhost:8080/"
        },
        "id": "2DOKzthVFwVq",
        "outputId": "bb62bdfc-73ff-4726-8de2-8d6dc7c8ab28"
      },
      "execution_count": 15,
      "outputs": [
        {
          "output_type": "stream",
          "name": "stdout",
          "text": [
            "Python\n",
            "JavaScript\n",
            "C++\n"
          ]
        }
      ]
    },
    {
      "cell_type": "markdown",
      "metadata": {
        "id": "PrL3lA1z5Efg"
      },
      "source": [
        "### 🧠 Exercise 4:\n",
        "Try to change an item in the tuple and observe the error. What does it tell you?"
      ]
    },
    {
      "cell_type": "code",
      "source": [
        "#Tuple example\n",
        "colors = (\"red\", \"green\", \"blue\")\n",
        "print(f\"First color: {colors[0]}\")\n",
        "colors[1] = \"yellow\""
      ],
      "metadata": {
        "colab": {
          "base_uri": "https://localhost:8080/",
          "height": 193
        },
        "id": "m3AUtQZpEYwz",
        "outputId": "8faca3e1-c8b8-4ddd-c389-0f3bb7209041"
      },
      "execution_count": 14,
      "outputs": [
        {
          "output_type": "stream",
          "name": "stdout",
          "text": [
            "First color: red\n"
          ]
        },
        {
          "output_type": "error",
          "ename": "TypeError",
          "evalue": "'tuple' object does not support item assignment",
          "traceback": [
            "\u001b[0;31m---------------------------------------------------------------------------\u001b[0m",
            "\u001b[0;31mTypeError\u001b[0m                                 Traceback (most recent call last)",
            "\u001b[0;32m/tmp/ipython-input-14-533182479.py\u001b[0m in \u001b[0;36m<cell line: 0>\u001b[0;34m()\u001b[0m\n\u001b[1;32m      2\u001b[0m \u001b[0mcolors\u001b[0m \u001b[0;34m=\u001b[0m \u001b[0;34m(\u001b[0m\u001b[0;34m\"red\"\u001b[0m\u001b[0;34m,\u001b[0m \u001b[0;34m\"green\"\u001b[0m\u001b[0;34m,\u001b[0m \u001b[0;34m\"blue\"\u001b[0m\u001b[0;34m)\u001b[0m\u001b[0;34m\u001b[0m\u001b[0;34m\u001b[0m\u001b[0m\n\u001b[1;32m      3\u001b[0m \u001b[0mprint\u001b[0m\u001b[0;34m(\u001b[0m\u001b[0;34mf\"First color: {colors[0]}\"\u001b[0m\u001b[0;34m)\u001b[0m\u001b[0;34m\u001b[0m\u001b[0;34m\u001b[0m\u001b[0m\n\u001b[0;32m----> 4\u001b[0;31m \u001b[0mcolors\u001b[0m\u001b[0;34m[\u001b[0m\u001b[0;36m1\u001b[0m\u001b[0;34m]\u001b[0m \u001b[0;34m=\u001b[0m \u001b[0;34m\"yellow\"\u001b[0m\u001b[0;34m\u001b[0m\u001b[0;34m\u001b[0m\u001b[0m\n\u001b[0m",
            "\u001b[0;31mTypeError\u001b[0m: 'tuple' object does not support item assignment"
          ]
        }
      ]
    },
    {
      "cell_type": "markdown",
      "metadata": {
        "id": "pnCGP5HR5Efg"
      },
      "source": [
        "## Dictionaries in Python\n",
        "Dictionaries store data in key-value pairs. They are useful for looking up values by a unique key.\n",
        "\n",
        "### Syntax:\n",
        "`my_dict = {\"key1\": value1, \"key2\": value2}`\n",
        "\n",
        "### Common Operations:\n",
        "- Access values: `my_dict[\"key1\"]`\n",
        "- Add new key-value: `my_dict[\"key3\"] = value3`\n",
        "- Remove key-value: `del my_dict[\"key1\"]`"
      ]
    },
    {
      "cell_type": "code",
      "execution_count": 17,
      "metadata": {
        "colab": {
          "base_uri": "https://localhost:8080/"
        },
        "id": "b40MKj2Q5Efh",
        "outputId": "b26ae42c-0a6c-43fa-b23d-540bb73abb85"
      },
      "outputs": [
        {
          "output_type": "stream",
          "name": "stdout",
          "text": [
            "student1: {'name': 'Alice', 'age': 23, 'gender': 'female'}\n",
            "student2: {'name': 'Bob', 'age': 22, 'gender': 'male'}\n"
          ]
        }
      ],
      "source": [
        "student1 = {\"name\": \"Alice\", \"age\": 22, \"grade\": \"A\"}\n",
        "student2 = {\"name\": \"Bob\",   \"age\": 21, \"grade\": \"B\"}\n",
        "\n",
        "# Modify student1\n",
        "student1[\"age\"] = 23\n",
        "student1[\"gender\"] = \"female\"\n",
        "del student1[\"grade\"]\n",
        "\n",
        "# Modify student2\n",
        "student2[\"age\"] = 22\n",
        "student2[\"gender\"] = \"male\"\n",
        "del student2[\"grade\"]\n",
        "\n",
        "# Print both updated dictionaries\n",
        "print(\"student1:\", student1)\n",
        "print(\"student2:\", student2)"
      ]
    },
    {
      "cell_type": "markdown",
      "metadata": {
        "id": "HOjD4sQe5Efh"
      },
      "source": [
        "### 🧠 Exercise 5:\n",
        "Create a dictionary of 3 items about yourself (e.g., name, city, profession) and print it."
      ]
    },
    {
      "cell_type": "code",
      "source": [
        "about_you = {\n",
        "    \"name\": \"Okeke Chukwuebuka Chinweze\",\n",
        "    \"city\": \"Lagos, Nigeria\",\n",
        "    \"profession\": \"Pharmacist\"\n",
        "}\n",
        "\n",
        "# Print the dictionary\n",
        "print(about_you)"
      ],
      "metadata": {
        "colab": {
          "base_uri": "https://localhost:8080/"
        },
        "id": "Cq55-4LfJJ9f",
        "outputId": "5197232e-5158-4b70-a4a8-8ea138cc1fd0"
      },
      "execution_count": 18,
      "outputs": [
        {
          "output_type": "stream",
          "name": "stdout",
          "text": [
            "{'name': 'Okeke Chukwuebuka Chinweze', 'city': 'Lagos, Nigeria', 'profession': 'Pharmacist'}\n"
          ]
        }
      ]
    },
    {
      "cell_type": "markdown",
      "metadata": {
        "id": "bLZj1y_a5Efh"
      },
      "source": [
        "### 🧠 Exercise 6:\n",
        "Add a new key-value to your dictionary and delete one of the existing keys. Print the updated dictionary."
      ]
    },
    {
      "cell_type": "code",
      "source": [
        "# Original dictionary about you\n",
        "about_you = {\n",
        "    \"name\": \"Okeke Chukwuebuka Chinweze\",\n",
        "    \"city\": \"Lagos, Nigeria\",\n",
        "    \"profession\": \"Pharmacist\"\n",
        "}\n",
        "\n",
        "# Add a new key-value pair\n",
        "about_you[\"birth_year\"] = 1995\n",
        "\n",
        "# Delete one of the existing keys\n",
        "del about_you[\"city\"]\n",
        "\n",
        "# Print the updated dictionary\n",
        "print(about_you)"
      ],
      "metadata": {
        "colab": {
          "base_uri": "https://localhost:8080/"
        },
        "id": "mymBN4ySJfW8",
        "outputId": "31003d16-706c-4dde-bfb8-5a059636cb79"
      },
      "execution_count": 19,
      "outputs": [
        {
          "output_type": "stream",
          "name": "stdout",
          "text": [
            "{'name': 'Okeke Chukwuebuka Chinweze', 'profession': 'Pharmacist', 'birth_year': 1995}\n"
          ]
        }
      ]
    }
  ],
  "metadata": {
    "kernelspec": {
      "display_name": "Python 3",
      "language": "python",
      "name": "python3"
    },
    "language_info": {
      "name": "python",
      "version": "3.8"
    },
    "colab": {
      "provenance": [],
      "include_colab_link": true
    }
  },
  "nbformat": 4,
  "nbformat_minor": 0
}