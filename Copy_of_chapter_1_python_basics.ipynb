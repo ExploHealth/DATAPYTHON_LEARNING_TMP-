{
  "cells": [
    {
      "cell_type": "markdown",
      "metadata": {
        "id": "view-in-github",
        "colab_type": "text"
      },
      "source": [
        "<a href=\"https://colab.research.google.com/github/ExploHealth/phython/blob/main/Copy_of_chapter_1_python_basics.ipynb\" target=\"_parent\"><img src=\"https://colab.research.google.com/assets/colab-badge.svg\" alt=\"Open In Colab\"/></a>"
      ]
    },
    {
      "cell_type": "markdown",
      "metadata": {
        "id": "QeK1qVCHsiGZ"
      },
      "source": [
        "# Chapter 1: Python Basics for Data Analytics\n",
        "This chapter covers the essential building blocks of Python programming. You will learn what Python is, how to write basic code, and the foundational concepts needed for data analytics."
      ]
    },
    {
      "cell_type": "markdown",
      "metadata": {
        "id": "WRJ8Fx9FsiGc"
      },
      "source": [
        "## What is Python?\n",
        "Python is a high-level, interpreted programming language known for its simplicity and readability. It's widely used in data analytics, machine learning, web development, and automation."
      ]
    },
    {
      "cell_type": "code",
      "source": [
        "a = 3\n",
        "b = 2\n",
        "b<a"
      ],
      "metadata": {
        "colab": {
          "base_uri": "https://localhost:8080/"
        },
        "id": "JQWfDgQRs_CJ",
        "outputId": "9e5159ff-0054-4ed9-fe88-56f5ee9605a9"
      },
      "execution_count": null,
      "outputs": [
        {
          "output_type": "execute_result",
          "data": {
            "text/plain": [
              "True"
            ]
          },
          "metadata": {},
          "execution_count": 4
        }
      ]
    },
    {
      "cell_type": "markdown",
      "metadata": {
        "id": "AWWqvc-qsiGd"
      },
      "source": [
        "## Variables in Python\n",
        "Variables are used to store information that can be referenced and manipulated later in a program.\n",
        "\n",
        "### Rules for Naming Variables:\n",
        "- Variable names must start with a letter or underscore (_)\n",
        "- They cannot start with a number\n",
        "- They are case-sensitive (age and Age are different)\n",
        "\n",
        "### Types of Variables:\n",
        "- **String**: Text data (e.g., 'Hello', \"Hello\")\n",
        "- **Integer**: Whole numbers (e.g., 42)\n",
        "- **Float**: Decimal numbers (e.g., 3.14)\n",
        "- **Boolean**: True or False values"
      ]
    },
    {
      "cell_type": "code",
      "execution_count": null,
      "metadata": {
        "colab": {
          "base_uri": "https://localhost:8080/"
        },
        "id": "ErKTdGKcsiGd",
        "outputId": "657ac3d3-16d0-48a9-b31d-35bfaf97e080"
      },
      "outputs": [
        {
          "output_type": "stream",
          "name": "stdout",
          "text": [
            "Alice 30 5.6 True\n"
          ]
        }
      ],
      "source": [
        "# Examples of different variable types\n",
        "name = \"Alice\"         # String\n",
        "age = 30              # Integer\n",
        "height = 5.6          # Float\n",
        "is_student = True     # Boolean\n",
        "\n",
        "print(name, age, height, is_student)"
      ]
    },
    {
      "cell_type": "markdown",
      "metadata": {
        "id": "TQMU7e2usiGe"
      },
      "source": [
        "### 🧠 Exercise 1:\n",
        "Create a variable to store your favorite color, another for your birth year, and print both."
      ]
    },
    {
      "cell_type": "code",
      "source": [
        "# Store variables\n",
        "favorite_color = \"Purple\"\n",
        "birth_year = 1995\n",
        "\n",
        "# Print both\n",
        "print(f\"Favorite color: {favorite_color}\")\n",
        "print(f\"Birth year: {birth_year}\")"
      ],
      "metadata": {
        "colab": {
          "base_uri": "https://localhost:8080/"
        },
        "id": "JD31KD7yyZJe",
        "outputId": "bb306fbe-f09e-4a9a-835d-752be2142621"
      },
      "execution_count": null,
      "outputs": [
        {
          "output_type": "stream",
          "name": "stdout",
          "text": [
            "Favorite color: Purple\n",
            "Birth year: 1995\n"
          ]
        }
      ]
    },
    {
      "cell_type": "markdown",
      "metadata": {
        "id": "4BIamWmxsiGf"
      },
      "source": [
        "### 🧠 Exercise 2:\n",
        "Create variables for a product name, its price, and whether it is in stock. Then print a sentence using these variables."
      ]
    },
    {
      "cell_type": "code",
      "source": [
        "# Store product details\n",
        "product_name = \"Wireless Headphones\"\n",
        "price = 79.99\n",
        "in_stock = True\n",
        "\n",
        "# Print a descriptive sentence\n",
        "stock_status = \"in stock\" if in_stock else \"out of stock\"\n",
        "print(f\"The product {product_name} costs ${price} and is currently {stock_status}.\")"
      ],
      "metadata": {
        "colab": {
          "base_uri": "https://localhost:8080/"
        },
        "id": "E8A1teyOzFKV",
        "outputId": "3712033b-be3d-4829-c050-b07b558f26f5"
      },
      "execution_count": null,
      "outputs": [
        {
          "output_type": "stream",
          "name": "stdout",
          "text": [
            "The product Wireless Headphones costs $79.99 and is currently in stock.\n"
          ]
        }
      ]
    },
    {
      "cell_type": "markdown",
      "metadata": {
        "id": "0CYrDWmFsiGf"
      },
      "source": [
        "## Checking Variable Types\n",
        "You can use the `type()` function to check the type of any variable."
      ]
    },
    {
      "cell_type": "code",
      "execution_count": null,
      "metadata": {
        "colab": {
          "base_uri": "https://localhost:8080/"
        },
        "id": "PNnMQBtDsiGf",
        "outputId": "8506bd6e-9751-4366-a72c-636dd52b0750"
      },
      "outputs": [
        {
          "output_type": "stream",
          "name": "stdout",
          "text": [
            "<class 'str'>\n",
            "<class 'int'>\n",
            "<class 'float'>\n",
            "<class 'bool'>\n"
          ]
        }
      ],
      "source": [
        "# Check the type of each variable\n",
        "print(type(name))\n",
        "print(type(age))\n",
        "print(type(height))\n",
        "print(type(is_student))"
      ]
    },
    {
      "cell_type": "markdown",
      "metadata": {
        "id": "I5UuKzlIsiGg"
      },
      "source": [
        "## Type Conversion\n",
        "Sometimes you may want to convert one data type to another using functions like `int()`, `str()`, or `float()`."
      ]
    },
    {
      "cell_type": "code",
      "execution_count": null,
      "metadata": {
        "colab": {
          "base_uri": "https://localhost:8080/"
        },
        "id": "_IC79SCMsiGg",
        "outputId": "1ec6c3ae-9dd5-410c-e494-8815f26cb230"
      },
      "outputs": [
        {
          "output_type": "stream",
          "name": "stdout",
          "text": [
            "2026\n",
            "The number is 100\n"
          ]
        }
      ],
      "source": [
        "# Convert string to int and int to string\n",
        "year = \"2025\"\n",
        "year_int = int(year)\n",
        "print(year_int + 1)\n",
        "\n",
        "num = 100\n",
        "num_str = str(num)\n",
        "print(\"The number is \" + num_str)"
      ]
    },
    {
      "cell_type": "markdown",
      "metadata": {
        "id": "s2MRyuzZsiGh"
      },
      "source": [
        "### 🧠 Exercise 3:\n",
        "Convert a string representing a decimal (e.g. '3.14') to a float, and multiply it by 2."
      ]
    },
    {
      "cell_type": "code",
      "source": [
        "# Given string\n",
        "decimal_str = \"3.14\"\n",
        "\n",
        "# Convert to float\n",
        "decimal_float = float(decimal_str)\n",
        "\n",
        "# Multiply by 2\n",
        "result = decimal_float * 2\n",
        "\n",
        "# Print the result\n",
        "print(result)"
      ],
      "metadata": {
        "colab": {
          "base_uri": "https://localhost:8080/"
        },
        "id": "jut24tJ-zzh3",
        "outputId": "32ff897b-6f1a-4a88-f4b0-92d187dc21b9"
      },
      "execution_count": null,
      "outputs": [
        {
          "output_type": "stream",
          "name": "stdout",
          "text": [
            "6.28\n"
          ]
        }
      ]
    },
    {
      "cell_type": "markdown",
      "metadata": {
        "id": "Sv0C2vbSsiGh"
      },
      "source": [
        "### 🧠 Exercise 4:\n",
        "Convert an integer to a string and use it to print a greeting message like: 'You are visitor number 123'"
      ]
    },
    {
      "cell_type": "code",
      "source": [
        "# Given integer\n",
        "visitor_number = 123\n",
        "\n",
        "# Convert to string\n",
        "visitor_str = str(visitor_number)\n",
        "\n",
        "# Print the greeting message\n",
        "print(f\"You are visitor number {visitor_str}\"),\n",
        "print(\"You are visitor number\" + visitor_str)\n",
        "print(\"You are visitor number \" + visitor_str)"
      ],
      "metadata": {
        "colab": {
          "base_uri": "https://localhost:8080/"
        },
        "id": "CUET3CeN0QfF",
        "outputId": "8b36e770-aa22-4a4e-c0c2-354ade9a942e"
      },
      "execution_count": null,
      "outputs": [
        {
          "output_type": "stream",
          "name": "stdout",
          "text": [
            "You are visitor number 123\n",
            "You are visitor number123\n",
            "You are visitor number 123\n"
          ]
        }
      ]
    }
  ],
  "metadata": {
    "kernelspec": {
      "display_name": "Python 3",
      "language": "python",
      "name": "python3"
    },
    "language_info": {
      "name": "python",
      "version": "3.8"
    },
    "colab": {
      "provenance": [],
      "include_colab_link": true
    }
  },
  "nbformat": 4,
  "nbformat_minor": 0
}